{
 "cells": [
  {
   "cell_type": "markdown",
   "metadata": {
    "id": "O-327zl0JKTY"
   },
   "source": [
    "# Assignment 2  (20 points)\n",
    "\n",
    "# Every code cell is followed by a markdown cell specifying the requirement"
   ]
  },
  {
   "cell_type": "markdown",
   "source": [
    "# use the below-mentioned import statements to complete your code\n",
    "# do not change the import statements"
   ],
   "metadata": {
    "collapsed": false
   }
  },
  {
   "cell_type": "markdown",
   "source": [
    "### Fill up all the below CODE cells with appropriate code as per specifications provided in the Markdown cell below each Code cell\n",
    "#\n",
    "#\n",
    "#\n"
   ],
   "metadata": {
    "collapsed": false
   }
  },
  {
   "cell_type": "code",
   "execution_count": null,
   "outputs": [],
   "source": [],
   "metadata": {
    "collapsed": false
   }
  },
  {
   "cell_type": "markdown",
   "source": [
    "# Load the olympics.csv file"
   ],
   "metadata": {
    "id": "z84kNSR8JwjJ"
   }
  },
  {
   "cell_type": "code",
   "execution_count": null,
   "metadata": {
    "collapsed": true,
    "id": "j0QYbrIaJKTa"
   },
   "outputs": [],
   "source": []
  },
  {
   "cell_type": "markdown",
   "metadata": {
    "id": "umHeSrB7JKTa"
   },
   "source": [
    "### Display the Olympics DataFrame."
   ]
  },
  {
   "cell_type": "code",
   "execution_count": null,
   "metadata": {
    "id": "GL9B6WvdJKTb"
   },
   "outputs": [],
   "source": []
  },
  {
   "cell_type": "markdown",
   "metadata": {
    "id": "nGNJS75zJKTb"
   },
   "source": [
    "### List only the NOC column using both the [ ] and DOT notation. (2 points)"
   ]
  },
  {
   "cell_type": "code",
   "execution_count": null,
   "metadata": {
    "id": "YDeoAbP7JKTc"
   },
   "outputs": [],
   "source": []
  },
  {
   "cell_type": "markdown",
   "metadata": {
    "id": "oFovf6_wJKTc"
   },
   "source": [
    "### List the Edition, City, Athlete Name and Medal columns. (2 points)"
   ]
  },
  {
   "cell_type": "code",
   "execution_count": null,
   "metadata": {
    "collapsed": true,
    "id": "ybB_nEwgJKTc"
   },
   "outputs": [],
   "source": []
  },
  {
   "cell_type": "markdown",
   "source": [
    "# Which country has won the most men's gold medals in singles badminton over the years?\n",
    "# Sort the results alphabetically by the player's names.\n",
    "# Total: (2 points)"
   ],
   "metadata": {
    "id": "mAsVp9kZKPoD"
   }
  },
  {
   "cell_type": "code",
   "source": [],
   "metadata": {
    "id": "8J2esEAbKOpB"
   },
   "execution_count": null,
   "outputs": []
  },
  {
   "cell_type": "markdown",
   "source": [
    "# Which three countries have won the most medals in recent years (from 1984 to 2008)? (2 points)"
   ],
   "metadata": {
    "id": "NxtHQ2kFKW35"
   }
  },
  {
   "cell_type": "code",
   "source": [],
   "metadata": {
    "id": "YwpJJQP6KWcY"
   },
   "execution_count": null,
   "outputs": []
  },
  {
   "cell_type": "markdown",
   "source": [
    "# Display the male players winning gold medal winners for the 100m Track & Field sprint event over the years.\n",
    "# List the results starting with the most recent.\n",
    "# Show the Olympic City, Edition, Athlete and the country they represent.\n",
    "# Total: (2 points)"
   ],
   "metadata": {
    "id": "SttwsWIXKav-"
   }
  },
  {
   "cell_type": "code",
   "source": [],
   "metadata": {
    "id": "z_TX9EUZKhR-"
   },
   "execution_count": null,
   "outputs": []
  },
  {
   "cell_type": "markdown",
   "source": [
    "# Which countries did not win a medal in the 2008 Olympics?\n",
    "# How many countries were there?\n",
    "# Total: (2 points)"
   ],
   "metadata": {
    "id": "8LD65wpBLG74"
   }
  },
  {
   "cell_type": "code",
   "source": [],
   "metadata": {
    "id": "POqglyBELJRZ"
   },
   "execution_count": 1,
   "outputs": []
  },
  {
   "cell_type": "markdown",
   "source": [
    "# Using groupby(), plot the total number of medals awarded at each of the Olympic games throughout history. (2 points)"
   ],
   "metadata": {
    "id": "MHbVFD3uLj4Q"
   }
  },
  {
   "cell_type": "code",
   "source": [],
   "metadata": {
    "id": "3fMZkWVHTjOB"
   },
   "execution_count": null,
   "outputs": []
  },
  {
   "cell_type": "markdown",
   "source": [
    "# Create a list showing the total number of medals won for each country over the history of the Olympics.\n",
    "# For each country, include the year of the first and most recent Olympic medal wins.\n",
    "# Total: (3 points)"
   ],
   "metadata": {
    "id": "S5gXE4Q8Lsw0"
   }
  },
  {
   "cell_type": "code",
   "source": [],
   "metadata": {
    "id": "6rgDQe9lTj9B"
   },
   "execution_count": null,
   "outputs": []
  },
  {
   "cell_type": "markdown",
   "source": [
    "# Plot the number of medals achieved by the Chinese team (men and women) in Beijing 2008 using:\n",
    "# - matplotlib\n",
    "# - Seaborn\n",
    "# Total: (3 points)\n"
   ],
   "metadata": {
    "id": "zJy44vanTHDi"
   }
  }
 ],
 "metadata": {
  "kernelspec": {
   "display_name": "Python 3",
   "language": "python",
   "name": "python3"
  },
  "language_info": {
   "codemirror_mode": {
    "name": "ipython",
    "version": 3
   },
   "file_extension": ".py",
   "mimetype": "text/x-python",
   "name": "python",
   "nbconvert_exporter": "python",
   "pygments_lexer": "ipython3",
   "version": "3.6.1"
  },
  "colab": {
   "provenance": []
  }
 },
 "nbformat": 4,
 "nbformat_minor": 0
}
